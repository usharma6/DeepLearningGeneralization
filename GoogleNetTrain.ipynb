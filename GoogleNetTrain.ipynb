{
  "nbformat": 4,
  "nbformat_minor": 0,
  "metadata": {
    "colab": {
      "name": "GoogleNetTrain.ipynb",
      "provenance": [],
      "collapsed_sections": []
    },
    "kernelspec": {
      "name": "python3",
      "display_name": "Python 3"
    },
    "accelerator": "GPU",
    "widgets": {
      "application/vnd.jupyter.widget-state+json": {
        "64dde2c195174f77bdd11c6fa2bc8335": {
          "model_module": "@jupyter-widgets/controls",
          "model_name": "HBoxModel",
          "state": {
            "_view_name": "HBoxView",
            "_dom_classes": [],
            "_model_name": "HBoxModel",
            "_view_module": "@jupyter-widgets/controls",
            "_model_module_version": "1.5.0",
            "_view_count": null,
            "_view_module_version": "1.5.0",
            "box_style": "",
            "layout": "IPY_MODEL_0ec977fcb3ff4579bf5be8f2d837f522",
            "_model_module": "@jupyter-widgets/controls",
            "children": [
              "IPY_MODEL_fdd7a915ef1f4dca8fda098065a7e93c",
              "IPY_MODEL_974f9aee24d14c90acc5404d2087a9e2"
            ]
          }
        },
        "0ec977fcb3ff4579bf5be8f2d837f522": {
          "model_module": "@jupyter-widgets/base",
          "model_name": "LayoutModel",
          "state": {
            "_view_name": "LayoutView",
            "grid_template_rows": null,
            "right": null,
            "justify_content": null,
            "_view_module": "@jupyter-widgets/base",
            "overflow": null,
            "_model_module_version": "1.2.0",
            "_view_count": null,
            "flex_flow": null,
            "width": null,
            "min_width": null,
            "border": null,
            "align_items": null,
            "bottom": null,
            "_model_module": "@jupyter-widgets/base",
            "top": null,
            "grid_column": null,
            "overflow_y": null,
            "overflow_x": null,
            "grid_auto_flow": null,
            "grid_area": null,
            "grid_template_columns": null,
            "flex": null,
            "_model_name": "LayoutModel",
            "justify_items": null,
            "grid_row": null,
            "max_height": null,
            "align_content": null,
            "visibility": null,
            "align_self": null,
            "height": null,
            "min_height": null,
            "padding": null,
            "grid_auto_rows": null,
            "grid_gap": null,
            "max_width": null,
            "order": null,
            "_view_module_version": "1.2.0",
            "grid_template_areas": null,
            "object_position": null,
            "object_fit": null,
            "grid_auto_columns": null,
            "margin": null,
            "display": null,
            "left": null
          }
        },
        "fdd7a915ef1f4dca8fda098065a7e93c": {
          "model_module": "@jupyter-widgets/controls",
          "model_name": "FloatProgressModel",
          "state": {
            "_view_name": "ProgressView",
            "style": "IPY_MODEL_2e92d2d59fd14c3cbdf8b5ba28a4c8f1",
            "_dom_classes": [],
            "description": "100%",
            "_model_name": "FloatProgressModel",
            "bar_style": "success",
            "max": 52147035,
            "_view_module": "@jupyter-widgets/controls",
            "_model_module_version": "1.5.0",
            "value": 52147035,
            "_view_count": null,
            "_view_module_version": "1.5.0",
            "orientation": "horizontal",
            "min": 0,
            "description_tooltip": null,
            "_model_module": "@jupyter-widgets/controls",
            "layout": "IPY_MODEL_359ff7f9b9c64cc3b6913ab861032ae6"
          }
        },
        "974f9aee24d14c90acc5404d2087a9e2": {
          "model_module": "@jupyter-widgets/controls",
          "model_name": "HTMLModel",
          "state": {
            "_view_name": "HTMLView",
            "style": "IPY_MODEL_33d012a0f8c14c648554921c3475d0f8",
            "_dom_classes": [],
            "description": "",
            "_model_name": "HTMLModel",
            "placeholder": "​",
            "_view_module": "@jupyter-widgets/controls",
            "_model_module_version": "1.5.0",
            "value": " 49.7M/49.7M [14:42&lt;00:00, 59.1kB/s]",
            "_view_count": null,
            "_view_module_version": "1.5.0",
            "description_tooltip": null,
            "_model_module": "@jupyter-widgets/controls",
            "layout": "IPY_MODEL_a4f4fb454fa344d2ae56490e43e8260f"
          }
        },
        "2e92d2d59fd14c3cbdf8b5ba28a4c8f1": {
          "model_module": "@jupyter-widgets/controls",
          "model_name": "ProgressStyleModel",
          "state": {
            "_view_name": "StyleView",
            "_model_name": "ProgressStyleModel",
            "description_width": "initial",
            "_view_module": "@jupyter-widgets/base",
            "_model_module_version": "1.5.0",
            "_view_count": null,
            "_view_module_version": "1.2.0",
            "bar_color": null,
            "_model_module": "@jupyter-widgets/controls"
          }
        },
        "359ff7f9b9c64cc3b6913ab861032ae6": {
          "model_module": "@jupyter-widgets/base",
          "model_name": "LayoutModel",
          "state": {
            "_view_name": "LayoutView",
            "grid_template_rows": null,
            "right": null,
            "justify_content": null,
            "_view_module": "@jupyter-widgets/base",
            "overflow": null,
            "_model_module_version": "1.2.0",
            "_view_count": null,
            "flex_flow": null,
            "width": null,
            "min_width": null,
            "border": null,
            "align_items": null,
            "bottom": null,
            "_model_module": "@jupyter-widgets/base",
            "top": null,
            "grid_column": null,
            "overflow_y": null,
            "overflow_x": null,
            "grid_auto_flow": null,
            "grid_area": null,
            "grid_template_columns": null,
            "flex": null,
            "_model_name": "LayoutModel",
            "justify_items": null,
            "grid_row": null,
            "max_height": null,
            "align_content": null,
            "visibility": null,
            "align_self": null,
            "height": null,
            "min_height": null,
            "padding": null,
            "grid_auto_rows": null,
            "grid_gap": null,
            "max_width": null,
            "order": null,
            "_view_module_version": "1.2.0",
            "grid_template_areas": null,
            "object_position": null,
            "object_fit": null,
            "grid_auto_columns": null,
            "margin": null,
            "display": null,
            "left": null
          }
        },
        "33d012a0f8c14c648554921c3475d0f8": {
          "model_module": "@jupyter-widgets/controls",
          "model_name": "DescriptionStyleModel",
          "state": {
            "_view_name": "StyleView",
            "_model_name": "DescriptionStyleModel",
            "description_width": "",
            "_view_module": "@jupyter-widgets/base",
            "_model_module_version": "1.5.0",
            "_view_count": null,
            "_view_module_version": "1.2.0",
            "_model_module": "@jupyter-widgets/controls"
          }
        },
        "a4f4fb454fa344d2ae56490e43e8260f": {
          "model_module": "@jupyter-widgets/base",
          "model_name": "LayoutModel",
          "state": {
            "_view_name": "LayoutView",
            "grid_template_rows": null,
            "right": null,
            "justify_content": null,
            "_view_module": "@jupyter-widgets/base",
            "overflow": null,
            "_model_module_version": "1.2.0",
            "_view_count": null,
            "flex_flow": null,
            "width": null,
            "min_width": null,
            "border": null,
            "align_items": null,
            "bottom": null,
            "_model_module": "@jupyter-widgets/base",
            "top": null,
            "grid_column": null,
            "overflow_y": null,
            "overflow_x": null,
            "grid_auto_flow": null,
            "grid_area": null,
            "grid_template_columns": null,
            "flex": null,
            "_model_name": "LayoutModel",
            "justify_items": null,
            "grid_row": null,
            "max_height": null,
            "align_content": null,
            "visibility": null,
            "align_self": null,
            "height": null,
            "min_height": null,
            "padding": null,
            "grid_auto_rows": null,
            "grid_gap": null,
            "max_width": null,
            "order": null,
            "_view_module_version": "1.2.0",
            "grid_template_areas": null,
            "object_position": null,
            "object_fit": null,
            "grid_auto_columns": null,
            "margin": null,
            "display": null,
            "left": null
          }
        }
      }
    }
  },
  "cells": [
    {
      "cell_type": "code",
      "metadata": {
        "colab": {
          "base_uri": "https://localhost:8080/"
        },
        "id": "UmIp3RixL6AB",
        "outputId": "ea1c4f94-020b-4927-ca69-1dacbe4fd726"
      },
      "source": [
        "import io\n",
        "import glob\n",
        "import os\n",
        "from shutil import move\n",
        "from os.path import join\n",
        "from os import listdir, rmdir\n",
        "import cv2\n",
        "import numpy as np\n",
        "import torch\n",
        "import glob\n",
        "import pickle\n",
        "import torch.nn as nn\n",
        "import torchvision\n",
        "import torchvision.datasets as dataset\n",
        "import torchvision.transforms as transforms\n",
        "import matplotlib.pyplot as plt\n",
        "from google.colab import files\n",
        "import time\n",
        "import struct\n",
        "import PIL\n",
        "import torchvision.models as models\n",
        "from google.colab import drive\n",
        "drive.mount('/content/drive')\n",
        "!cp \"drive/My Drive/DL-finalproj/model_eval.py\" .\n",
        "\n",
        "from model_eval import trainer\n",
        "gpu_boole = torch.cuda.is_available()\n",
        "print(gpu_boole)\n",
        "\n",
        "def getTinyImageNet():\n",
        "  !wget http://cs231n.stanford.edu/tiny-imagenet-200.zip\n",
        "  !unzip tiny-imagenet-200.zip\n",
        "  target_folder = './tiny-imagenet-200/val/'\n",
        "  test_folder   = './tiny-imagenet-200/test/'\n",
        "\n",
        "  #os.mkdir(test_folder)\n",
        "  val_dict = {}\n",
        "  with open('./tiny-imagenet-200/val/val_annotations.txt', 'r') as f:\n",
        "      for line in f.readlines():\n",
        "          split_line = line.split('\\t')\n",
        "          val_dict[split_line[0]] = split_line[1]\n",
        "\n",
        "  paths = glob.glob('./tiny-imagenet-200/val/images/*')\n",
        "  for path in paths:\n",
        "      file = path.split('/')[-1]\n",
        "      folder = val_dict[file]\n",
        "      if not os.path.exists(target_folder + str(folder)):\n",
        "          os.mkdir(target_folder + str(folder))\n",
        "          os.mkdir(target_folder + str(folder) + '/images')\n",
        "      if not os.path.exists(test_folder + str(folder)):\n",
        "          os.mkdir(test_folder + str(folder))\n",
        "          os.mkdir(test_folder + str(folder) + '/images')\n",
        "\n",
        "\n",
        "  for path in paths:\n",
        "      file = path.split('/')[-1]\n",
        "      folder = val_dict[file]\n",
        "      if len(glob.glob(target_folder + str(folder) + '/images/*')) <25:\n",
        "          dest = target_folder + str(folder) + '/images/' + str(file)\n",
        "      else:\n",
        "          dest = test_folder + str(folder) + '/images/' + str(file)\n",
        "      move(path, dest)\n",
        "\n",
        "  rmdir('./tiny-imagenet-200/val/images')"
      ],
      "execution_count": 3,
      "outputs": [
        {
          "output_type": "stream",
          "text": [
            "Drive already mounted at /content/drive; to attempt to forcibly remount, call drive.mount(\"/content/drive\", force_remount=True).\n",
            "True\n"
          ],
          "name": "stdout"
        }
      ]
    },
    {
      "cell_type": "code",
      "metadata": {
        "id": "812-V7Vwv484"
      },
      "source": [
        "getTinyImageNet() #run once only"
      ],
      "execution_count": null,
      "outputs": []
    },
    {
      "cell_type": "code",
      "metadata": {
        "id": "7u5CXNIRuoUA"
      },
      "source": [
        "def AugmentedImageNet(train_transforms=[], val_transforms=[], test_transforms=[], batch_size=100):\n",
        "  \n",
        "    data_transforms = {\n",
        "        'train': transforms.Compose(\n",
        "            train_transforms\n",
        "        ),\n",
        "        'val': transforms.Compose(\n",
        "            val_transforms\n",
        "        ),\n",
        "        'test': transforms.Compose(\n",
        "            test_transforms\n",
        "        )\n",
        "    }\n",
        "\n",
        "    data_dir = 'tiny-imagenet-200/'\n",
        "    num_workers = {\n",
        "        'train' : 100,\n",
        "        'val'   : 0,\n",
        "        'test'  : 0\n",
        "    }\n",
        "    image_datasets = {x: dataset.ImageFolder(os.path.join(data_dir, x),\n",
        "                                              data_transforms[x])\n",
        "                      for x in ['train', 'val','test']}\n",
        "    dataloaders = {x: torch.utils.data.DataLoader(image_datasets[x], batch_size=100,\n",
        "                                                 shuffle=True, pin_memory =True)\n",
        "                  for x in ['train', 'val', 'test']}\n",
        "\n",
        "    return dataloaders"
      ],
      "execution_count": 5,
      "outputs": []
    },
    {
      "cell_type": "code",
      "metadata": {
        "colab": {
          "base_uri": "https://localhost:8080/",
          "height": 83,
          "referenced_widgets": [
            "64dde2c195174f77bdd11c6fa2bc8335",
            "0ec977fcb3ff4579bf5be8f2d837f522",
            "fdd7a915ef1f4dca8fda098065a7e93c",
            "974f9aee24d14c90acc5404d2087a9e2",
            "2e92d2d59fd14c3cbdf8b5ba28a4c8f1",
            "359ff7f9b9c64cc3b6913ab861032ae6",
            "33d012a0f8c14c648554921c3475d0f8",
            "a4f4fb454fa344d2ae56490e43e8260f"
          ]
        },
        "id": "MUtDLoxpM51T",
        "outputId": "305eb66d-4e2e-48a3-db46-f55c22cab96f"
      },
      "source": [
        "epochs = 10\n",
        "netparam = models.googlenet(pretrained=True)\n",
        "netparam.fc.out_features = 200\n",
        "for param in netparam.parameters():\n",
        "  p\n",
        "optimizer = torch.optim.Adam(netparam.parameters(), 0.001)\n",
        "loss_metric = torch.nn.CrossEntropyLoss()\n",
        "if gpu_boole:\n",
        " netparam = netparam.cuda()\n",
        "\n",
        "\n",
        "\n",
        "\n",
        "train_model =  trainer(netparam, dataloaders, optimizer, loss_metric, \n",
        "                                epochs, gpu_boole, 1, 1, 1, 0)\n",
        "\n"
      ],
      "execution_count": 6,
      "outputs": [
        {
          "output_type": "stream",
          "text": [
            "Downloading: \"https://download.pytorch.org/models/googlenet-1378be20.pth\" to /root/.cache/torch/hub/checkpoints/googlenet-1378be20.pth\n"
          ],
          "name": "stderr"
        },
        {
          "output_type": "display_data",
          "data": {
            "application/vnd.jupyter.widget-view+json": {
              "model_id": "64dde2c195174f77bdd11c6fa2bc8335",
              "version_minor": 0,
              "version_major": 2
            },
            "text/plain": [
              "HBox(children=(FloatProgress(value=0.0, max=52147035.0), HTML(value='')))"
            ]
          },
          "metadata": {
            "tags": []
          }
        },
        {
          "output_type": "stream",
          "text": [
            "\n"
          ],
          "name": "stdout"
        }
      ]
    },
    {
      "cell_type": "code",
      "metadata": {
        "id": "JhzUt4xZx7T9"
      },
      "source": [
        "baseline_data_dict = {\n",
        "    \n",
        "}\n",
        "\n",
        "augmented_data_dict = {0 : AugmentedImageNet(train_transforms=[  \n",
        "      transforms.RandomApply(torch.nn.ModuleList([transforms.ColorJitter()]), p=0.1),   \n",
        "      transforms.ToTensor(),                                                                             \n",
        "      transforms.RandomGrayscale(0.1),\n",
        "      transforms.RandomApply(torch.nn.ModuleList([transforms.RandomRotation(10)]), p=0.1),\n",
        "      transforms.RandomErasing(p=0.1)], \n",
        "    val_transforms=[\n",
        "      transforms.ToTensor(),\n",
        "      transforms.GaussianBlur(3, sigma=1.0)\n",
        "    ],\n",
        "    test_transforms=[]),\n",
        "\n",
        "    1 : ,\n",
        "\n",
        "    2 : , \n",
        "\n",
        "    3 : ,\n",
        "\n",
        "    4 : , \n",
        "}"
      ],
      "execution_count": 10,
      "outputs": []
    },
    {
      "cell_type": "code",
      "metadata": {
        "colab": {
          "base_uri": "https://localhost:8080/"
        },
        "id": "vK23e9gyIj3Q",
        "outputId": "613473e1-7052-4b1e-f946-7b4b2c584bce"
      },
      "source": [
        "model_name = 'GoogleNet_'\n",
        "for i in range(5):\n",
        "  netparam = models.googlenet(pretrained=True)\n",
        "  netparam.fc.out_features = 200\n",
        "  # FREEZE ALL BUT LAST LAYER\n",
        "  optimizer = torch.optim.Adam(netparam.parameters(), 0.001)\n",
        "  loss_metric = torch.nn.CrossEntropyLoss()\n",
        "  if gpu_boole:\n",
        "  netparam = netparam.cuda()\n",
        "\n",
        "  \n",
        "  curr_baseline_data = baseline_data_dict[i]\n",
        "  curr_aug_data = augmented_data_dict[i]\n",
        "\n",
        "\n",
        "\n",
        "  baseline_trainer =  trainer(netparam, curr_baseline_data, optimizer, loss_metric, \n",
        "                                  epochs=25, gpu_boole, 1, 1, 1, 0)\n",
        "\n",
        "  bl_train_acc, bl_epoch_loss, _, bl_validation_acc,_ = baseline_trainer.train_model()\n",
        "\n",
        "  bl_results_pickle = {'train_acc': bl_train_acc,\n",
        "                       'epoch_loss': bl_epoch_loss,\n",
        "                       'val_acc': bl_validation_acc}\n",
        "  \n",
        "\n",
        "  pickle.dump(bl_results_pickle, open('bl_results_' + model_name + str(i) +  '.pkl', 'wb'))\n",
        "  torch.save(netparam.state_dict(), 'models/baseline/' + model_name + str(i) + '.model')\n",
        "\n",
        "\n",
        "  # UNFREEZE ALL LAYERS\n",
        "\n",
        "  \n",
        "  augmented_trainer = trainer(netparam, curr_augmented_data, optimizer, loss_metric, \n",
        "                                  epochs=25, gpu_boole, 1, 1, 1, 0)\n",
        "\n",
        "\n",
        "  aug_train_acc, aug_epoch_loss, _, aug_validation_acc,_ = augmented_trainer.train_model()\n",
        "  aug_results_pickle = {'train_acc': aug_train_acc,\n",
        "                       'epoch_loss': aug_epoch_loss,\n",
        "                       'val_acc': aug_validation_acc}\n",
        "  pickle.dumb(aug_results_pickle, open('aug_results_' + model_name + str(i) +  '.pkl', 'wb'))\n",
        "  torch.save(netparam.state_dict(), 'models/augmented/' + model_name + str(i) + '.model')"
      ],
      "execution_count": null,
      "outputs": [
        {
          "output_type": "stream",
          "text": [
            "torch.Size([100, 3, 64, 64]) torch.Size([100])\n"
          ],
          "name": "stdout"
        }
      ]
    },
    {
      "cell_type": "code",
      "metadata": {
        "colab": {
          "base_uri": "https://localhost:8080/"
        },
        "id": "tOwEXuwkjO0e",
        "outputId": "b8f7bf66-b237-420a-f339-69c1bb6805ed"
      },
      "source": [
        "netparam.parameters()"
      ],
      "execution_count": 17,
      "outputs": [
        {
          "output_type": "stream",
          "text": [
            "<generator object Module.parameters at 0x7f683c5a7d00>\n"
          ],
          "name": "stdout"
        }
      ]
    },
    {
      "cell_type": "code",
      "metadata": {
        "id": "lMhWgT0VjXst"
      },
      "source": [
        ""
      ],
      "execution_count": null,
      "outputs": []
    }
  ]
}